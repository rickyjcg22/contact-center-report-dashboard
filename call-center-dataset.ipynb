{
 "cells": [
  {
   "cell_type": "markdown",
   "metadata": {},
   "source": [
    "# Call Center Dashboard\n",
    "\n",
    "Created by: Ricky Jay Gomez"
   ]
  },
  {
   "cell_type": "markdown",
   "metadata": {},
   "source": [
    "## Import Libraries"
   ]
  },
  {
   "cell_type": "code",
   "execution_count": 1,
   "metadata": {},
   "outputs": [],
   "source": [
    "import pandas as pd"
   ]
  },
  {
   "cell_type": "markdown",
   "metadata": {},
   "source": [
    "## Load Dataset"
   ]
  },
  {
   "cell_type": "code",
   "execution_count": 3,
   "metadata": {},
   "outputs": [
    {
     "name": "stdout",
     "output_type": "stream",
     "text": [
      "<class 'pandas.core.frame.DataFrame'>\n",
      "RangeIndex: 105108 entries, 0 to 105107\n",
      "Data columns (total 28 columns):\n",
      " #   Column                      Non-Null Count   Dtype \n",
      "---  ------                      --------------   ----- \n",
      " 0   Total_Wait_Time             105108 non-null  int64 \n",
      " 1   Calls_Offered               105108 non-null  int64 \n",
      " 2   Calls_Handled               105108 non-null  int64 \n",
      " 3   Talk_Time                   105108 non-null  int64 \n",
      " 4   Calls_within_Service_Level  105108 non-null  int64 \n",
      " 5   Calls_Abandoned             105108 non-null  int64 \n",
      " 6   Abandoned_Time              105108 non-null  int64 \n",
      " 7   Held_Calls                  105108 non-null  int64 \n",
      " 8   Hold_Time                   105108 non-null  int64 \n",
      " 9   Wrap_Time                   105108 non-null  int64 \n",
      " 10  i_acwtime                   105108 non-null  int64 \n",
      " 11  Outbound_Calls              105108 non-null  int64 \n",
      " 12  Outbound_Time               105108 non-null  int64 \n",
      " 13  Transferred_in_Calls        105108 non-null  int64 \n",
      " 14  Transferred_in_Time         105108 non-null  int64 \n",
      " 15  Transferred_in_Calls.1      105108 non-null  int64 \n",
      " 16  Conference                  105108 non-null  int64 \n",
      " 17  RedirectNoAns               105108 non-null  int64 \n",
      " 18  Longest_Wait1               105108 non-null  int64 \n",
      " 19  OutFlowCalls                105108 non-null  int64 \n",
      " 20  AccountAbr                  105108 non-null  object\n",
      " 21  ActivityDate                105108 non-null  object\n",
      " 22  Start_Time                  105108 non-null  object\n",
      " 23  End_Time                    105108 non-null  object\n",
      " 24  SkillCode                   105108 non-null  int64 \n",
      " 25  SkillDescription            105108 non-null  object\n",
      " 26  LineOfBusiness              105108 non-null  object\n",
      " 27  Interval__numeric_          105108 non-null  int64 \n",
      "dtypes: int64(22), object(6)\n",
      "memory usage: 22.5+ MB\n"
     ]
    },
    {
     "data": {
      "text/plain": [
       "(105108, 28)"
      ]
     },
     "execution_count": 3,
     "metadata": {},
     "output_type": "execute_result"
    }
   ],
   "source": [
    "data = pd.read_csv(\"call-center-dataset-raw.csv\")\n",
    "\n",
    "# check the data structure\n",
    "data.info()\n",
    "\n",
    "# check the size of the dataset\n",
    "data.shape"
   ]
  },
  {
   "cell_type": "code",
   "execution_count": 4,
   "metadata": {},
   "outputs": [
    {
     "data": {
      "text/html": [
       "<div>\n",
       "<style scoped>\n",
       "    .dataframe tbody tr th:only-of-type {\n",
       "        vertical-align: middle;\n",
       "    }\n",
       "\n",
       "    .dataframe tbody tr th {\n",
       "        vertical-align: top;\n",
       "    }\n",
       "\n",
       "    .dataframe thead th {\n",
       "        text-align: right;\n",
       "    }\n",
       "</style>\n",
       "<table border=\"1\" class=\"dataframe\">\n",
       "  <thead>\n",
       "    <tr style=\"text-align: right;\">\n",
       "      <th></th>\n",
       "      <th>Total_Wait_Time</th>\n",
       "      <th>Calls_Offered</th>\n",
       "      <th>Calls_Handled</th>\n",
       "      <th>Talk_Time</th>\n",
       "      <th>Calls_within_Service_Level</th>\n",
       "      <th>Calls_Abandoned</th>\n",
       "      <th>Abandoned_Time</th>\n",
       "      <th>Held_Calls</th>\n",
       "      <th>Hold_Time</th>\n",
       "      <th>Wrap_Time</th>\n",
       "      <th>...</th>\n",
       "      <th>Longest_Wait1</th>\n",
       "      <th>OutFlowCalls</th>\n",
       "      <th>AccountAbr</th>\n",
       "      <th>ActivityDate</th>\n",
       "      <th>Start_Time</th>\n",
       "      <th>End_Time</th>\n",
       "      <th>SkillCode</th>\n",
       "      <th>SkillDescription</th>\n",
       "      <th>LineOfBusiness</th>\n",
       "      <th>Interval__numeric_</th>\n",
       "    </tr>\n",
       "  </thead>\n",
       "  <tbody>\n",
       "    <tr>\n",
       "      <th>0</th>\n",
       "      <td>0</td>\n",
       "      <td>0</td>\n",
       "      <td>0</td>\n",
       "      <td>0</td>\n",
       "      <td>0</td>\n",
       "      <td>0</td>\n",
       "      <td>0</td>\n",
       "      <td>0</td>\n",
       "      <td>0</td>\n",
       "      <td>0</td>\n",
       "      <td>...</td>\n",
       "      <td>0</td>\n",
       "      <td>0</td>\n",
       "      <td>TelCo</td>\n",
       "      <td>2022-01-01</td>\n",
       "      <td>12:00AM</td>\n",
       "      <td>12:30AM</td>\n",
       "      <td>18</td>\n",
       "      <td>HMF</td>\n",
       "      <td>HM</td>\n",
       "      <td>0</td>\n",
       "    </tr>\n",
       "    <tr>\n",
       "      <th>1</th>\n",
       "      <td>0</td>\n",
       "      <td>0</td>\n",
       "      <td>0</td>\n",
       "      <td>0</td>\n",
       "      <td>0</td>\n",
       "      <td>0</td>\n",
       "      <td>0</td>\n",
       "      <td>0</td>\n",
       "      <td>0</td>\n",
       "      <td>0</td>\n",
       "      <td>...</td>\n",
       "      <td>0</td>\n",
       "      <td>0</td>\n",
       "      <td>TelCo</td>\n",
       "      <td>2022-01-01</td>\n",
       "      <td>1:00AM</td>\n",
       "      <td>1:30AM</td>\n",
       "      <td>18</td>\n",
       "      <td>HMF</td>\n",
       "      <td>HM</td>\n",
       "      <td>100</td>\n",
       "    </tr>\n",
       "    <tr>\n",
       "      <th>2</th>\n",
       "      <td>0</td>\n",
       "      <td>0</td>\n",
       "      <td>0</td>\n",
       "      <td>0</td>\n",
       "      <td>0</td>\n",
       "      <td>0</td>\n",
       "      <td>0</td>\n",
       "      <td>0</td>\n",
       "      <td>0</td>\n",
       "      <td>0</td>\n",
       "      <td>...</td>\n",
       "      <td>0</td>\n",
       "      <td>0</td>\n",
       "      <td>TelCo</td>\n",
       "      <td>2022-01-01</td>\n",
       "      <td>10:00AM</td>\n",
       "      <td>10:30AM</td>\n",
       "      <td>18</td>\n",
       "      <td>HMF</td>\n",
       "      <td>HM</td>\n",
       "      <td>1000</td>\n",
       "    </tr>\n",
       "    <tr>\n",
       "      <th>3</th>\n",
       "      <td>0</td>\n",
       "      <td>0</td>\n",
       "      <td>0</td>\n",
       "      <td>0</td>\n",
       "      <td>0</td>\n",
       "      <td>0</td>\n",
       "      <td>0</td>\n",
       "      <td>0</td>\n",
       "      <td>0</td>\n",
       "      <td>0</td>\n",
       "      <td>...</td>\n",
       "      <td>0</td>\n",
       "      <td>0</td>\n",
       "      <td>TelCo</td>\n",
       "      <td>2022-01-01</td>\n",
       "      <td>10:30AM</td>\n",
       "      <td>11:00AM</td>\n",
       "      <td>18</td>\n",
       "      <td>HMF</td>\n",
       "      <td>HM</td>\n",
       "      <td>1030</td>\n",
       "    </tr>\n",
       "    <tr>\n",
       "      <th>4</th>\n",
       "      <td>0</td>\n",
       "      <td>0</td>\n",
       "      <td>0</td>\n",
       "      <td>0</td>\n",
       "      <td>0</td>\n",
       "      <td>0</td>\n",
       "      <td>0</td>\n",
       "      <td>0</td>\n",
       "      <td>0</td>\n",
       "      <td>0</td>\n",
       "      <td>...</td>\n",
       "      <td>0</td>\n",
       "      <td>0</td>\n",
       "      <td>TelCo</td>\n",
       "      <td>2022-01-01</td>\n",
       "      <td>11:00AM</td>\n",
       "      <td>11:30AM</td>\n",
       "      <td>18</td>\n",
       "      <td>HMF</td>\n",
       "      <td>HM</td>\n",
       "      <td>1100</td>\n",
       "    </tr>\n",
       "    <tr>\n",
       "      <th>...</th>\n",
       "      <td>...</td>\n",
       "      <td>...</td>\n",
       "      <td>...</td>\n",
       "      <td>...</td>\n",
       "      <td>...</td>\n",
       "      <td>...</td>\n",
       "      <td>...</td>\n",
       "      <td>...</td>\n",
       "      <td>...</td>\n",
       "      <td>...</td>\n",
       "      <td>...</td>\n",
       "      <td>...</td>\n",
       "      <td>...</td>\n",
       "      <td>...</td>\n",
       "      <td>...</td>\n",
       "      <td>...</td>\n",
       "      <td>...</td>\n",
       "      <td>...</td>\n",
       "      <td>...</td>\n",
       "      <td>...</td>\n",
       "      <td>...</td>\n",
       "    </tr>\n",
       "    <tr>\n",
       "      <th>105103</th>\n",
       "      <td>12</td>\n",
       "      <td>1</td>\n",
       "      <td>1</td>\n",
       "      <td>153</td>\n",
       "      <td>1</td>\n",
       "      <td>0</td>\n",
       "      <td>0</td>\n",
       "      <td>0</td>\n",
       "      <td>0</td>\n",
       "      <td>0</td>\n",
       "      <td>...</td>\n",
       "      <td>12</td>\n",
       "      <td>0</td>\n",
       "      <td>TelCo</td>\n",
       "      <td>2022-12-31</td>\n",
       "      <td>7:30AM</td>\n",
       "      <td>8:00AM</td>\n",
       "      <td>91</td>\n",
       "      <td>HMT2</td>\n",
       "      <td>HM</td>\n",
       "      <td>730</td>\n",
       "    </tr>\n",
       "    <tr>\n",
       "      <th>105104</th>\n",
       "      <td>30</td>\n",
       "      <td>2</td>\n",
       "      <td>2</td>\n",
       "      <td>1094</td>\n",
       "      <td>2</td>\n",
       "      <td>0</td>\n",
       "      <td>0</td>\n",
       "      <td>1</td>\n",
       "      <td>4</td>\n",
       "      <td>26</td>\n",
       "      <td>...</td>\n",
       "      <td>16</td>\n",
       "      <td>0</td>\n",
       "      <td>TelCo</td>\n",
       "      <td>2022-12-31</td>\n",
       "      <td>8:00AM</td>\n",
       "      <td>8:30AM</td>\n",
       "      <td>91</td>\n",
       "      <td>HMT2</td>\n",
       "      <td>HM</td>\n",
       "      <td>800</td>\n",
       "    </tr>\n",
       "    <tr>\n",
       "      <th>105105</th>\n",
       "      <td>29</td>\n",
       "      <td>2</td>\n",
       "      <td>2</td>\n",
       "      <td>1072</td>\n",
       "      <td>2</td>\n",
       "      <td>0</td>\n",
       "      <td>0</td>\n",
       "      <td>1</td>\n",
       "      <td>137</td>\n",
       "      <td>117</td>\n",
       "      <td>...</td>\n",
       "      <td>17</td>\n",
       "      <td>0</td>\n",
       "      <td>TelCo</td>\n",
       "      <td>2022-12-31</td>\n",
       "      <td>8:30AM</td>\n",
       "      <td>9:00AM</td>\n",
       "      <td>91</td>\n",
       "      <td>HMT2</td>\n",
       "      <td>HM</td>\n",
       "      <td>830</td>\n",
       "    </tr>\n",
       "    <tr>\n",
       "      <th>105106</th>\n",
       "      <td>43</td>\n",
       "      <td>4</td>\n",
       "      <td>4</td>\n",
       "      <td>1906</td>\n",
       "      <td>4</td>\n",
       "      <td>0</td>\n",
       "      <td>0</td>\n",
       "      <td>1</td>\n",
       "      <td>1</td>\n",
       "      <td>219</td>\n",
       "      <td>...</td>\n",
       "      <td>13</td>\n",
       "      <td>0</td>\n",
       "      <td>TelCo</td>\n",
       "      <td>2022-12-31</td>\n",
       "      <td>9:00AM</td>\n",
       "      <td>9:30AM</td>\n",
       "      <td>91</td>\n",
       "      <td>HMT2</td>\n",
       "      <td>HM</td>\n",
       "      <td>900</td>\n",
       "    </tr>\n",
       "    <tr>\n",
       "      <th>105107</th>\n",
       "      <td>58</td>\n",
       "      <td>4</td>\n",
       "      <td>4</td>\n",
       "      <td>1578</td>\n",
       "      <td>4</td>\n",
       "      <td>0</td>\n",
       "      <td>0</td>\n",
       "      <td>1</td>\n",
       "      <td>154</td>\n",
       "      <td>225</td>\n",
       "      <td>...</td>\n",
       "      <td>23</td>\n",
       "      <td>0</td>\n",
       "      <td>TelCo</td>\n",
       "      <td>2022-12-31</td>\n",
       "      <td>9:30AM</td>\n",
       "      <td>10:00AM</td>\n",
       "      <td>91</td>\n",
       "      <td>HMT2</td>\n",
       "      <td>HM</td>\n",
       "      <td>930</td>\n",
       "    </tr>\n",
       "  </tbody>\n",
       "</table>\n",
       "<p>105108 rows × 28 columns</p>\n",
       "</div>"
      ],
      "text/plain": [
       "        Total_Wait_Time  Calls_Offered  Calls_Handled  Talk_Time  \\\n",
       "0                     0              0              0          0   \n",
       "1                     0              0              0          0   \n",
       "2                     0              0              0          0   \n",
       "3                     0              0              0          0   \n",
       "4                     0              0              0          0   \n",
       "...                 ...            ...            ...        ...   \n",
       "105103               12              1              1        153   \n",
       "105104               30              2              2       1094   \n",
       "105105               29              2              2       1072   \n",
       "105106               43              4              4       1906   \n",
       "105107               58              4              4       1578   \n",
       "\n",
       "        Calls_within_Service_Level  Calls_Abandoned  Abandoned_Time  \\\n",
       "0                                0                0               0   \n",
       "1                                0                0               0   \n",
       "2                                0                0               0   \n",
       "3                                0                0               0   \n",
       "4                                0                0               0   \n",
       "...                            ...              ...             ...   \n",
       "105103                           1                0               0   \n",
       "105104                           2                0               0   \n",
       "105105                           2                0               0   \n",
       "105106                           4                0               0   \n",
       "105107                           4                0               0   \n",
       "\n",
       "        Held_Calls  Hold_Time  Wrap_Time  ...  Longest_Wait1  OutFlowCalls  \\\n",
       "0                0          0          0  ...              0             0   \n",
       "1                0          0          0  ...              0             0   \n",
       "2                0          0          0  ...              0             0   \n",
       "3                0          0          0  ...              0             0   \n",
       "4                0          0          0  ...              0             0   \n",
       "...            ...        ...        ...  ...            ...           ...   \n",
       "105103           0          0          0  ...             12             0   \n",
       "105104           1          4         26  ...             16             0   \n",
       "105105           1        137        117  ...             17             0   \n",
       "105106           1          1        219  ...             13             0   \n",
       "105107           1        154        225  ...             23             0   \n",
       "\n",
       "        AccountAbr  ActivityDate  Start_Time  End_Time  SkillCode  \\\n",
       "0            TelCo    2022-01-01     12:00AM   12:30AM         18   \n",
       "1            TelCo    2022-01-01      1:00AM    1:30AM         18   \n",
       "2            TelCo    2022-01-01     10:00AM   10:30AM         18   \n",
       "3            TelCo    2022-01-01     10:30AM   11:00AM         18   \n",
       "4            TelCo    2022-01-01     11:00AM   11:30AM         18   \n",
       "...            ...           ...         ...       ...        ...   \n",
       "105103       TelCo    2022-12-31      7:30AM    8:00AM         91   \n",
       "105104       TelCo    2022-12-31      8:00AM    8:30AM         91   \n",
       "105105       TelCo    2022-12-31      8:30AM    9:00AM         91   \n",
       "105106       TelCo    2022-12-31      9:00AM    9:30AM         91   \n",
       "105107       TelCo    2022-12-31      9:30AM   10:00AM         91   \n",
       "\n",
       "        SkillDescription  LineOfBusiness  Interval__numeric_  \n",
       "0                    HMF              HM                   0  \n",
       "1                    HMF              HM                 100  \n",
       "2                    HMF              HM                1000  \n",
       "3                    HMF              HM                1030  \n",
       "4                    HMF              HM                1100  \n",
       "...                  ...             ...                 ...  \n",
       "105103              HMT2              HM                 730  \n",
       "105104              HMT2              HM                 800  \n",
       "105105              HMT2              HM                 830  \n",
       "105106              HMT2              HM                 900  \n",
       "105107              HMT2              HM                 930  \n",
       "\n",
       "[105108 rows x 28 columns]"
      ]
     },
     "execution_count": 4,
     "metadata": {},
     "output_type": "execute_result"
    }
   ],
   "source": [
    "# check the data contents\n",
    "data"
   ]
  },
  {
   "cell_type": "markdown",
   "metadata": {},
   "source": [
    "## Metrics"
   ]
  },
  {
   "cell_type": "code",
   "execution_count": 12,
   "metadata": {},
   "outputs": [
    {
     "data": {
      "text/plain": [
       "743299"
      ]
     },
     "execution_count": 12,
     "metadata": {},
     "output_type": "execute_result"
    }
   ],
   "source": [
    "# total calls offered\n",
    "calls_offered_total = data.Calls_Offered.sum()\n",
    "calls_offered_total"
   ]
  },
  {
   "cell_type": "code",
   "execution_count": 13,
   "metadata": {},
   "outputs": [
    {
     "data": {
      "text/plain": [
       "713764"
      ]
     },
     "execution_count": 13,
     "metadata": {},
     "output_type": "execute_result"
    }
   ],
   "source": [
    "# total calls handled\n",
    "calls_handled_total = data.Calls_Handled.sum()\n",
    "calls_handled_total"
   ]
  },
  {
   "cell_type": "code",
   "execution_count": 14,
   "metadata": {},
   "outputs": [
    {
     "data": {
      "text/plain": [
       "12892"
      ]
     },
     "execution_count": 14,
     "metadata": {},
     "output_type": "execute_result"
    }
   ],
   "source": [
    "# total calls abandoned\n",
    "calls_abandoned_total = data.Calls_Abandoned.sum()\n",
    "calls_abandoned_total"
   ]
  },
  {
   "cell_type": "code",
   "execution_count": 15,
   "metadata": {},
   "outputs": [
    {
     "data": {
      "text/plain": [
       "17.353216189104522"
      ]
     },
     "execution_count": 15,
     "metadata": {},
     "output_type": "execute_result"
    }
   ],
   "source": [
    "# Avg. Speed of Answer (secs)\n",
    "wait_time_total = data.Total_Wait_Time.sum()\n",
    "SOA_avg = wait_time_total/calls_handled_total\n",
    "SOA_avg"
   ]
  },
  {
   "cell_type": "code",
   "execution_count": 16,
   "metadata": {},
   "outputs": [
    {
     "data": {
      "text/plain": [
       "0.9495682395621863"
      ]
     },
     "execution_count": 16,
     "metadata": {},
     "output_type": "execute_result"
    }
   ],
   "source": [
    "# Service Level\n",
    "\n",
    "calls_service_level_total = data.Calls_within_Service_Level.sum()\n",
    "calls_offered_noRONA_total = calls_offered_total - data.RedirectNoAns.sum()\n",
    "service_level = calls_service_level_total/calls_offered_noRONA_total\n",
    "service_level\n"
   ]
  },
  {
   "cell_type": "code",
   "execution_count": 18,
   "metadata": {},
   "outputs": [
    {
     "data": {
      "text/plain": [
       "0.017344298862234445"
      ]
     },
     "execution_count": 18,
     "metadata": {},
     "output_type": "execute_result"
    }
   ],
   "source": [
    "# Abandoment Rate\n",
    "AR = calls_abandoned_total/calls_offered_total\n",
    "AR"
   ]
  },
  {
   "cell_type": "code",
   "execution_count": 31,
   "metadata": {},
   "outputs": [
    {
     "data": {
      "text/plain": [
       "14.025799844206208"
      ]
     },
     "execution_count": 31,
     "metadata": {},
     "output_type": "execute_result"
    }
   ],
   "source": [
    "# Average Handle Time (mins)\n",
    "handle_time_total = data.Talk_Time.sum() + data.Hold_Time.sum() + data.Wrap_Time.sum()\n",
    "handle_time_avg = (handle_time_total/calls_handled_total)/60\n",
    "handle_time_avg"
   ]
  },
  {
   "cell_type": "code",
   "execution_count": 34,
   "metadata": {},
   "outputs": [
    {
     "data": {
      "text/plain": [
       "8573745.1"
      ]
     },
     "execution_count": 34,
     "metadata": {},
     "output_type": "execute_result"
    }
   ],
   "source": [
    "# Total Handle Time (mins)\n",
    "talk_time_total = data.Talk_Time.sum()/60\n",
    "talk_time_total"
   ]
  },
  {
   "cell_type": "code",
   "execution_count": 35,
   "metadata": {},
   "outputs": [
    {
     "data": {
      "text/plain": [
       "125311"
      ]
     },
     "execution_count": 35,
     "metadata": {},
     "output_type": "execute_result"
    }
   ],
   "source": [
    "# Outbound Calls\n",
    "OBC = data.Outbound_Calls.sum()\n",
    "OBC"
   ]
  }
 ],
 "metadata": {
  "kernelspec": {
   "display_name": "Python 3",
   "language": "python",
   "name": "python3"
  },
  "language_info": {
   "codemirror_mode": {
    "name": "ipython",
    "version": 3
   },
   "file_extension": ".py",
   "mimetype": "text/x-python",
   "name": "python",
   "nbconvert_exporter": "python",
   "pygments_lexer": "ipython3",
   "version": "3.10.4"
  }
 },
 "nbformat": 4,
 "nbformat_minor": 2
}
